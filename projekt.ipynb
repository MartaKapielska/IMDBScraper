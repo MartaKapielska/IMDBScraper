{
 "cells": [
  {
   "cell_type": "code",
   "execution_count": null,
   "metadata": {},
   "outputs": [
    {
     "name": "stdout",
     "output_type": "stream",
     "text": [
      "showing info https://raw.githubusercontent.com/nltk/nltk_data/gh-pages/index.xml\n"
     ]
    }
   ],
   "source": [
    "import nltk\n",
    "nltk.download()"
   ]
  },
  {
   "cell_type": "code",
   "execution_count": null,
   "metadata": {
    "collapsed": true
   },
   "outputs": [],
   "source": [
    "from nltk.tokenize import word_tokenize"
   ]
  },
  {
   "cell_type": "code",
   "execution_count": 10,
   "metadata": {
    "scrolled": true
   },
   "outputs": [
    {
     "name": "stdout",
     "output_type": "stream",
     "text": [
      "['in', 'the', 'opening', 'scene', ',', 'a', 'flashback', ',', 'two', 'hobbits', ',', 'smă©agol', '(', 'andy', 'serkis', ')', 'and', 'his', 'friend', 'dă©agol', '(', 'thomas', 'robins', ')', ',', 'are', 'fishing', 'the', 'river', 'anduin', 'near', 'the', 'gladden', 'fields', 'in', 'the', 'north', 'of', 'middle', 'earth', '.', 'dă©agol', 'is', 'dragged', 'into', 'the', 'river', 'by', 'a', 'powerful', 'catch', 'and', 'discovers', 'the', 'one', 'ring', 'glinting', 'in', 'the', 'river', 'bed', '.', 'he', 'collects', 'it', 'and', 'climbs', 'out', 'of', 'the', 'water', '.', 'smă©agol', 'sees', 'him', 'fondling', 'it', 'and', 'as', 'they', 'both', 'succumb', 'to', 'the', 'ring', \"'s\", 'power', 'they', 'begin', 'to', 'quarrel', '.', 'smă©agol', 'demands', 'the', 'ring', ',', 'saying', 'that', 'it', \"'s\", 'his', 'birthday', 'and', 'it', 'should', 'be', 'his', 'present', '.', 'the', 'squabble', 'turns', 'into', 'a', 'fight', ';', 'smă©agol', 'strangles', 'his', 'friend', 'with', 'his', 'bare', 'hands', 'and', 'pries', 'the', 'ring', 'from', 'dă©agol', \"'s\", 'clenched', 'fist', '.', 'as', 'a', 'result', ',', 'smă©agol', 'is', 'ostracized', 'from', 'his', 'community', 'and', 'driven', 'away', '.', 'suffering', 'terribly', 'from', 'loneliness', 'and', 'shame', ',', 'smă©agol', 'takes', 'solace', 'in', 'his', 'love', 'for', 'the', 'ring', ',', 'which', 'slowly', 'tortures', 'his', 'mind', '.', 'he', 'takes', 'solitary', 'refuge', 'in', 'caves', 'beneath', 'the', 'mountains', ',', 'where', 'under', 'the', 'influence', 'of', 'the', 'ring', 'he', 'lives', 'to', 'a', 'very', 'great', 'age.he', 'dwindles', 'into', 'a', 'hunched', ',', 'furtive', ',', 'slinking', 'creature', 'known', 'by', 'the', 'unpleasant', 'noise', 'he', 'makes', 'in', 'his', 'throat', '--', '``', 'gollum', '.', '``', 'in', 'the', 'present', ',', 'on', 'the', 'outskirts', 'of', 'mordor', ',', 'frodo', '(', 'elijah', 'wood', ')', 'and', 'sam', '(', 'sean', 'astin', ')', 'are', 'resting', 'in', 'an', 'alcove', '.', 'sam', 'awakes', 'and', 'sees', 'that', 'his', 'master', 'has', 'not', 'slept', '.', 'the', 'days', 'are', 'growing', 'darker', 'the', 'closer', 'they', 'get', 'to', 'minas', 'morgul', 'and', 'mordor', '.', 'gollum', 'arrives', 'and', 'urges', 'them', 'to', 'move', 'on.away', 'in', 'the', 'west', ',', 'aragorn', '(', 'viggo', 'mortensen', ')', ',', 'legolas', '(', 'orlando', 'bloom', ')', ',', 'gimli', '(', 'john', 'rhys-davies', ')', ',', 'gandalf', '(', 'ian', 'mckellen', ')', ',', 'thă©oden', '(', 'bernard', 'hill', ')', ',', 'and', 'ă‰omer', '(', 'karl', 'urban', ')', 'ride', 'through', 'the', 'forest', 'of', 'fangorn', 'to', 'isengard', ',', 'where', 'they', 'meet', 'merry', '(', 'dominic', 'monaghan', ')', 'and', 'pippin', '(', 'billy', 'boyd', ')', 'feasting', 'among', 'the', 'wreckage', '.', 'they', 'go', 'to', 'see', 'treebeard', 'at', 'the', 'tower', 'of', 'orthanc', 'in', 'the', 'center', 'of', 'isengard', ',', 'where', 'saruman', '(', 'christopher', 'lee', ')', 'has', 'been', 'trapped', '.', 'gandalf', 'opposes', 'gimli', \"'s\", 'call', 'to', 'kill', 'saruman', ',', 'saying', 'that', 'the', 'wizard', 'has', 'no', 'power', 'anymore', 'and', 'will', 'pose', 'no', 'further', 'threat', '.', 'saruman', 'shows', 'himself', 'to', 'them', '.', 'grima', '(', 'brad', 'dourif', ')', ',', 'who', 'is', 'still', 'with', 'him', ',', 'stabs', 'him', 'with', 'a', 'knife', '.', 'legolas', 'shoots', 'grima', 'with', 'an', 'arrow', ',', 'but', 'saruman', 'falls', 'down', 'to', 'his', 'death', ',', 'landing', 'on', 'the', 'spikes', 'of', 'a', 'large', 'waterwheel', '.', 'as', 'they', 'are', 'talking', ',', 'pippin', 'sees', 'the', 'palantă\\xadr', 'amongst', 'the', 'flotsam', 'and', 'is', 'entranced', 'by', 'it', ',', 'but', 'gandalf', 'quickly', 'asks', 'it', 'from', 'him', 'and', 'hides', 'in', 'under', 'his', 'cloak.the', 'group', 'rides', 'to', 'edoras', ',', 'where', 'king', 'thă©oden', 'has', 'prepared', 'a', 'large', 'banquet', 'to', \"'hail\", 'the', 'victorious', 'dead', \"'\", 'of', 'the', 'battle', 'of', 'the', 'hornburg', '.', 'there', 'ă‰owyn', '(', 'miranda', 'otto', ')', 'shows', 'affection', 'for', 'aragorn', 'which', 'thă©oden', 'notices', ';', 'he', 'tells', 'her', 'that', 'he', 'is', 'happy', 'for', 'her', ',', 'aragorn', 'being', 'an', 'honorable', 'man', 'and', 'the', 'architect', 'of', 'the', 'victory', 'at', 'helm', \"'s\", 'deep', '.', 'gandalf', 'expresses', 'to', 'aragorn', 'his', 'concerns', 'over', 'the', 'quest', '.', 'aragorn', 'tells', 'him', 'to', 'trust', 'in', 'what', 'his', 'heart', 'tells', 'him', ',', 'that', 'frodo', 'is', 'still', 'alive.gollum', 'awakes', 'in', 'the', 'night', 'as', 'frodo', 'and', 'sam', 'are', 'sleeping', 'and', 'goes', 'off', 'to', 'one', 'side', 'to', 'murmur', 'to', 'himself', '.', 'his', 'evil', 'half', 'senses', 'some', 'doubt', 'in', 'smă©agol', 'and', 'insists', 'that', 'if', 'he', 'can', 'murder', 'once', '(', 'referring', 'to', 'dă©agol', ')', 'he', 'can', 'do', 'it', 'again', '.', 'gollum', 'then', 'begins', 'leading', 'smă©agol', 'through', 'their', 'plan', ',', 'to', 'deliver', 'the', 'hobbits', 'into', 'the', 'clutches', 'of', 'shelob', 'in', 'cirith', 'ungol', ',', 'after', 'which', 'the', 'ring', 'can', 'be', 'reclaimed', '.', 'sam', 'hears', 'the', 'conversation', 'and', 'beats', 'gollum', 'for', 'his', 'treachery', '.', 'frodo', 'intervenes', ',', 'saying', 'that', 'as', 'their', 'guide', 'gollum', 'is', 'necessary', 'for', 'their', 'quest', '.', 'sam', 'glowers', 'as', 'gollum', 'flashes', 'him', 'an', 'evil', 'smile', 'while', 'frodo', \"'s\", 'back', 'is', 'turned.that', 'same', 'night', 'back', 'in', 'edoras', ',', 'pippin', \"'s\", 'curiosity', 'gets', 'the', 'better', 'of', 'him', ';', 'relieving', 'a', 'sleeping', 'gandalf', 'of', 'the', 'palantă\\xadr', ',', 'he', 'looks', 'into', 'it', '.', 'pippin', 'sees', 'a', 'vision', 'of', 'a', 'white', 'tree', 'in', 'a', 'stone', 'courtyard', 'set', 'ablaze', ',', 'but', 'in', 'doing', 'so', 'he', 'is', 'caught', 'by', 'sauron', 'and', 'submitted', 'to', 'mental', 'torture', 'and', 'questioning', '.', 'aragorn', 'tries', 'to', 'rescue', 'him', ',', 'briefly', 'exposing', 'himself', 'to', 'sauron', '.', 'pippin', 'recovers', 'from', 'his', 'ordeal', 'and', 'it', 'is', 'discovered', 'that', 'he', 'did', 'not', 'tell', 'sauron', 'anything', 'of', 'the', 'ring', \"'s\", 'whereabouts', '.', 'from', 'pippin', \"'s\", 'vision', 'of', 'the', 'white', 'tree', ',', 'gandalf', 'deduces', 'that', 'sauron', 'is', 'now', 'moving', 'to', 'attack', 'the', 'great', 'gondorian', 'city', 'of', 'minas', 'tirith', 'and', 'he', 'rides', 'off', 'to', 'send', 'warning', ',', 'taking', 'pippin', 'with', 'him', ',', 'lest', 'his', 'urge', 'to', 'look', 'into', 'the', 'palantă\\xadr', '(', 'left', 'now', 'in', 'aragorn', \"'s\", 'keeping', ')', 'return', 'again.leaving', 'rivendell', 'on', 'her', 'way', 'to', 'the', 'undying', 'lands', ',', 'arwen', '(', 'liv', 'tyler', ')', 'has', 'a', 'vision', 'of', 'eldarion', '(', 'sadwyn', 'brophy', ')', ',', 'the', 'son', 'she', 'will', 'have', 'with', 'aragorn', '.', 'she', 'realises', 'that', 'her', 'father', 'lied', 'to', 'her', 'when', 'he', 'said', 'she', 'and', 'aragorn', 'had', 'no', 'future', 'together', '.', 'she', 'returns', 'to', 'rivendell', 'and', 'convinces', 'elrond', '(', 'hugo', 'weaving', ')', 'that', 'having', 'forsaken', 'the', 'life', 'of', 'the', 'eldar', ',', 'she', 'can', 'not', 'leave', 'aragorn', 'now', '.', 'she', 'tells', 'her', 'father', 'that', 'as', 'foretold', ',', 'the', 'time', 'to', 'reforge', 'narsil', 'has', 'come', '.', 'narsil', ',', 'the', 'sword', 'of', 'elendil', ',', 'is', 'the', 'birthright', 'of', 'the', 'true', 'heir', 'of', 'isildur', ',', 'the', 'man', 'who', 'used', 'the', 'sword', 'to', 'cut', 'the', 'one', 'ring', 'from', 'sauron', \"'s\", 'hand.gandalf', 'and', 'pippin', 'arrive', 'at', 'minas', 'tirith', ',', 'city', 'of', 'kings', ',', 'that', 'was', 'built', 'out', 'of', 'the', 'rock', 'of', 'mindolluin', '.', 'there', 'pippin', 'recognises', 'the', 'white', 'tree', 'as', 'they', 'go', 'to', 'find', 'the', 'steward', 'denethor', '(', 'john', 'noble', ')', '.', 'they', 'approach', 'him', 'as', 'he', 'mourns', 'over', 'boromir', '(', 'sean', 'bean', ')', ',', 'his', 'son', '.', 'pippin', 'swears', 'loyalty', 'to', 'him', 'in', 'recompense', 'for', 'boromir', \"'s\", 'sacrifice', '.', 'denethor', 'seems', 'to', 'be', 'caught', 'up', 'in', 'his', 'grief', 'and', 'has', 'not', 'taken', 'measures', 'to', 'fortify', 'the', 'city', 'against', 'the', 'threat', 'of', 'sauron.meanwhile', ',', 'frodo', ',', 'sam', ',', 'and', 'gollum', 'arrive', 'at', 'minas', 'morgul', '.', 'wary', 'of', 'the', 'enemy', ',', 'they', 'locate', 'the', 'winding', 'stair', '(', 'leading', 'to', 'the', 'pass', 'of', 'cirith', 'ungol', ')', 'that', 'lies', 'hidden', 'in', 'the', 'cliffs', 'surrounding', 'the', 'accursed', 'city', '.', 'just', 'at', 'that', 'moment', ',', 'the', 'doors', 'of', 'the', 'city', 'open', 'and', 'the', 'witch-king', 'of', 'angmar', ',', 'leader', 'of', 'the', 'nazgă', '»', 'l', ',', 'dispatches', 'his', 'immense', 'orc', 'army', 'from', 'his', 'lair', ',', 'heralding', 'the', 'start', 'of', 'the', 'war', '.', 'the', 'outpouring', 'of', 'the', 'army', 'is', 'witnessed', 'by', 'gandalf', 'and', 'pippin', 'as', 'a', 'flash', 'of', 'lightning', 'shoots', 'up', 'at', 'the', 'opening', 'of', 'the', 'doors', '.', 'at', 'the', 'urging', 'of', 'gandalf', ',', 'pippin', 'lights', 'the', 'first', 'of', 'the', 'beacon', 'signals', 'to', 'edoras', ',', 'alerting', 'thă©oden', ',', 'aragorn', 'and', 'the', 'rest', 'of', 'the', 'rohirrim', 'to', 'muster', 'at', 'dunharrow', 'and', 'thence', 'to', 'minas', 'tirith', '.', 'as', 'they', 'leave', 'edoras', ',', 'aragorn', 'notices', 'that', 'ă‰owyn', 'saddles', 'up', 'with', 'them', 'and', 'that', 'she', 'is', 'girt', 'with', 'a', 'sword', ',', 'but', 'she', 'insists', 'that', 'she', 'rides', 'only', 'to', 'see', 'them', 'off', 'and', 'that', 'the', 'men', 'have', 'found', 'their', 'captain', 'in', 'aragorn.the', 'morgul', 'army', 'crosses', 'anduin', 'at', 'osgiliath', 'in', 'makeshift', 'boats', 'and', 'engages', 'the', 'gondorian', 'contingent', '(', 'lead', 'by', 'boromir', \"'s\", 'brother', 'faramir', '(', 'david', 'wenham', ')', ')', 'in', 'battle', '.', 'the', 'orcs', 'prove', 'too', 'strong', 'and', 'drive', 'the', 'gondorians', 'out', 'of', 'osgiliath', ';', 'faramir', 'and', 'his', 'few', 'surviving', 'men', 'retreat', 'to', 'minas', 'tirith', ',', 'pursued', 'by', 'the', 'nazgă', '»', 'l', '.', 'gandalf', ',', 'riding', 'out', 'to', 'meet', 'the', 'retreating', 'men', ',', 'wards', 'them', 'off', ',', 'saving', 'faramir', '.', 'upon', 'his', 'arrival', ',', 'faramir', '(', 'who', 'met', 'frodo', ',', 'sam', ',', 'and', 'gollum', 'in', 'ithilien', 'just', 'before', 'they', 'headed', 'for', 'the', 'mountain', 'pass', 'into', 'mordor', ')', 'tells', 'gandalf', 'of', 'the', 'dangerous', 'route', 'gollum', 'is', 'taking', 'frodo', 'and', 'sam', 'on', ',', 'convincing', 'gandalf', 'of', 'gollum', \"'s\", 'treachery', '.', 'the', 'hobbits', ',', 'lead', 'by', 'gollum', ',', 'are', 'struggling', 'to', 'climb', 'the', 'extremely', 'steep', 'stairs', '.', 'gollum', 'reaches', 'out', 'and', 'empathises', 'with', 'frodo', ',', 'saying', 'that', 'he', 'understands', 'his', 'pain', '.', 'gollum', 'also', 'poisons', 'frodo', 'against', 'sam', ',', 'saying', 'that', 'sam', 'will', 'try', 'and', 'take', 'the', 'ring', 'from', 'frodo.in', 'the', 'captured', 'osgiliath', ',', 'the', 'witch-king', 'orders', 'his', 'captain', 'to', '``', 'send', 'forth', 'all', 'legions', \"''\", 'and', 'annihilate', 'the', 'population', 'of', 'minas', 'tirith', ',', 'saying', 'that', 'he', 'himself', 'will', '``', 'break', \"''\", 'the', 'wizard', 'gandalf', '.', 'denethor', ',', 'ill-pleased', 'by', 'faramir', \"'s\", 'failed', 'defence', 'of', 'osgiliath', ',', 'manipulates', 'him', 'into', 'taking', 'a', 'doomed', 'ride', 'to', 'reclaim', 'the', 'city', '.', 'gollum', 'continues', 'to', 'play', 'the', 'hobbits', 'against', 'each', 'other', ',', 'this', 'time', 'by', 'blaming', 'sam', 'for', 'eating', 'their', 'food', 'provisions', '.', 'frodo', ',', 'in', 'his', 'deluded', 'state', ',', 'is', 'suspicious', 'of', 'sam', 'and', 'orders', 'him', 'back', 'home', 'when', 'sam', ',', 'trying', 'to', 'be', 'helpful', ',', 'offers', 'to', 'carry', 'the', 'ring', ',', 'thereby', 'fulfilling', 'gollum', \"'s\", 'cunning', 'prediction', '.', 'faramir', 'rides', 'head-long', 'into', 'the', 'arrows', 'of', 'the', 'encamped', 'orcs', 'as', 'pippin', 'sings', 'for', 'denethor', 'who', 'unconcernedly', 'eats', 'his', 'noon', 'meal', '.', 'faramir', \"'s\", 'attack', 'fails', 'and', 'faramir', 'is', 'dragged', 'back', 'by', 'his', 'horse', 'in', 'a', 'death-like', 'coma.at', 'the', 'weapon-take', 'at', 'dunharrow', ',', 'a', 'hooded', 'figure', 'slowly', 'rides', 'on', 'a', 'white', 'horse', 'along', 'the', 'winding', 'road', 'to', 'the', 'encampment', 'in', 'the', 'hills', '.', 'the', 'figure', 'reveals', 'himself', 'to', 'aragorn', 'as', 'elrond', '.', 'he', 'presents', 'aragorn', 'with', 'his', 'birthright', '--', 'the', 'newly', 'reforged', 'sword', 'narsil', ',', 'now', 'named', 'anduril', ',', 'flame', 'of', 'the', 'west', '.', 'he', 'urges', 'aragorn', 'to', 'use', 'this', 'sword', 'to', 'recall', 'the', 'dead', 'men', 'of', 'dunharrow', 'and', 'use', 'their', 'allegiance', 'to', 'the', 'heir', 'of', 'isildur', '(', 'i.e', '.', 'aragorn', ')', 'to', 'stop', 'the', 'attack', 'of', 'the', 'corsairs', \"'\", 'ships', ',', 'which', 'are', 'already', 'sailing', 'from', 'the', 'south', '.', 'aragorn', 'accepts', 'this', 'counsel', 'and', 'rides', 'off', 'that', 'very', 'night', 'into', 'the', 'dimholt', ',', 'along', 'with', 'legolas', 'and', 'gimli', '.', 'as', 'he', 'is', 'preparing', 'to', 'go', ',', 'a', 'tearful', 'ă‰owyn', 'comes', 'to', 'aragorn', 'and', 'begs', 'him', 'not', 'to', 'go', ',', 'declaring', 'her', 'love', 'for', 'him', ',', 'but', 'aragorn', ',', 'knowing', 'now', 'that', 'arwen', 'has', 'refused', 'the', 'promise', 'of', 'valinor', ',', 'likewise', 'refuses', 'ă‰owyn', \"'s\", 'love', '.', 'the', 'next', 'morning', ',', 'thă©oden', 'rides', 'off', 'to', 'war', 'with', 'six', 'thousand', 'riders', ',', 'unaware', 'that', 'ă‰owyn', 'and', 'merry', ',', 'who', 'were', 'both', 'told', 'to', 'remain', 'behind', 'by', 'the', 'king', ',', 'are', 'part', 'of', 'his', 'army.the', 'morgul', 'forces', ',', 'composed', 'mostly', 'of', 'orcs', ',', 'begin', 'the', 'siege', 'of', 'minas', 'tirith', 'by', 'catapulting', 'the', 'heads', 'of', 'captured', 'prisoners', 'over', 'the', 'walls', '.', 'denethor', 'sees', 'his', 'son', 'faramir', 'and', 'believes', 'him', 'to', 'be', 'dead', ';', 'he', 'also', 'beholds', 'the', 'might', 'of', 'the', 'forces', 'marshaled', 'against', 'him', 'and', 'at', 'this', 'he', 'loses', 'hope', 'and', 'his', 'mind', ',', 'ordering', 'the', 'gondorians', 'to', 'abandon', 'their', 'positions', '.', 'gandalf', ',', 'however', ',', 'steps', 'in', 'and', 'incapacitates', 'denethor', ',', 'assuming', 'control', 'of', 'the', 'defense', '.', 'a', 'skirmish', 'between', 'gondorian', 'trebuchets', 'and', 'mordor', \"'s\", 'catapults', 'ensues', 'until', 'the', 'witch-king', 'and', 'the', 'other', 'ringwraiths', 'on', 'their', 'fell', 'beasts', 'attack', ',', 'destroying', 'the', 'trebuchets', 'and', 'sewing', 'terror', 'among', 'the', 'defenders.away', 'in', 'cirith', 'ungol', ',', 'gollum', 'betrays', 'frodo', 'to', 'the', 'giant', 'spider-creature', 'shelob', ',', 'but', 'sam', 'returns', 'to', 'fight', 'her', 'off', '.', 'sam', 'believes', 'frodo', 'is', 'dead', ',', 'but', 'when', 'orcs', 'from', 'the', 'tower', 'of', 'cirith', 'ungol', 'come', 'and', 'investigate', ',', 'sam', 'overhears', 'that', 'frodo', 'has', 'only', 'been', 'paralysed', 'by', 'shelob', \"'s\", 'stinger.in', 'minas', 'tirith', ',', 'denethor', ',', 'stricken', 'mad', 'with', 'grief', 'at', 'having', 'spent', 'both', 'his', 'sons', ',', 'prepares', 'a', 'funeral', 'pyre', 'for', 'himself', 'and', 'the', 'unconscious', 'faramir', '.', 'denethor', 'is', 'unaware', 'that', 'faramir', 'is', 'not', 'dead', 'and', 'the', 'pyre', 'will', 'burn', 'him', 'alive', '.', 'gandalf', 'and', 'pippin', 'arrive', 'in', 'the', 'hallows', 'and', 'manage', 'to', 'save', 'faramir', ',', 'but', 'denethor', 'is', 'thrown', 'onto', 'the', 'pyre', 'and', 'as', 'he', 'burns', 'to', 'death', ',', 'he', 'turns', 'and', 'sees', 'his', 'son', 'stirring', 'awake', 'from', 'his', 'injuries', 'and', 'exhaustion', '.', 'down', 'in', 'the', 'city', ',', 'the', 'battle', 'goes', 'ill', 'with', 'the', 'gondorians', ',', 'as', 'the', 'huge', 'battering', 'ram', 'grond', 'shatters', 'the', 'gates', 'of', 'the', 'city', 'and', 'trolls', 'pour', 'in', '.', 'as', 'the', 'defenders', 'retreat', 'to', 'the', 'upper', 'levels', 'of', 'the', 'city', ',', 'the', 'orcs', 'crawl', 'through', 'the', 'streets', 'of', 'the', 'lower', 'levels', ',', 'looting', ',', 'burning', 'and', 'massacring', 'the', 'men', 'of', 'gondor', '.', 'but', 'suddenly', 'in', 'the', 'midst', 'of', 'the', 'chaos', 'a', 'lone', 'horn', 'penetrates', 'the', 'air', 'and', 'all', 'turn', 'to', 'the', 'west', 'and', 'see', 'the', 'army', 'of', 'rohan', 'arrive', 'at', 'last', ',', 'to', 'the', 'rising', 'of', 'the', 'sun', '.', 'the', 'rohirrim', 'charge', 'into', 'the', 'orcs', 'with', 'great', 'effect', '.', 'however', 'their', 'joy', 'is', 'cut', 'short', 'by', 'the', 'arrival', 'of', 'the', 'forces', 'of', 'harad', 'and', 'the', 'immense', 'elephants', ',', 'the', 'mă', '»', 'makil', '.', 'the', 'witch-king', 'descends', 'on', 'thă©oden', ',', 'killing', 'snowmane', 'his', 'horse', 'and', 'fatally', 'wounding', 'the', 'king', '.', 'seemingly', 'in', 'the', 'nick', 'of', 'time', ',', 'the', 'corsairs', \"'\", 'ships', 'arrive', 'to', 'help', 'the', 'stranded', 'orcs', ',', 'but', 'it', 'is', 'aragorn', 'who', 'jumps', 'off', 'the', 'lead', 'ship', ',', 'followed', 'by', 'an', 'army', 'of', 'the', 'dead', '.', 'they', 'completely', 'destroy', 'the', 'orcs', 'and', 'mă', '»', 'makil', ',', 'while', 'ă‰owyn', 'and', 'merry', 'kill', 'the', 'witch-king', '.', 'thă©oden', 'dies', 'of', 'his', 'wounds', 'and', 'aragorn', 'holds', 'the', 'dead', 'army', \"'s\", 'oath', 'fulfilled', ',', 'releasing', 'them', 'from', 'their', 'curse', 'so', 'that', 'they', 'may', 'rest', 'in', 'peace.sam', 'rescues', 'frodo', 'from', 'cirith', 'ungol', ',', 'which', 'is', 'mostly', 'empty', 'following', 'a', 'fight', 'between', 'the', 'two', 'factions', 'of', 'the', 'tower', \"'s\", 'orc', 'garrison', 'over', 'frodo', \"'s\", 'valuable', 'mithril', 'shirt', '.', 'they', 'begin', 'the', 'long', 'trek', 'across', 'mordor', 'to', 'mount', 'doom', '.', 'gandalf', 'realizes', 'that', 'ten', 'thousand', 'orcs', 'stand', 'between', 'cirith', 'ungol', 'and', 'mount', 'doom', ',', 'which', 'will', 'prevent', 'frodo', 'from', 'reaching', 'his', 'destination', '.', 'aragorn', 'proposes', 'they', 'lead', 'the', 'remaining', 'soldiers', 'to', 'the', 'black', 'gate', 'to', 'draw', 'the', 'orcs', 'away', 'from', 'frodo', \"'s\", 'path', ',', 'as', 'well', 'as', 'distract', 'the', 'eye', 'of', 'sauron', '.', 'sam', 'carries', 'frodo', 'up', 'to', 'mount', 'doom', ',', 'but', 'gollum', 'arrives', 'and', 'attacks', 'them', ',', 'just', 'as', 'the', 'battle', 'of', 'the', 'morannon', 'begins', '.', 'at', 'the', 'crack', 'of', 'doom', ',', 'frodo', ',', 'instead', 'of', 'dropping', 'the', 'ring', 'into', 'the', 'fire', ',', 'succumbs', 'to', 'its', 'power', 'and', 'puts', 'it', 'on', ',', 'disappearing', 'from', 'sight', '.', 'the', 'act', 'alerts', 'sauron', ',', 'who', 'sends', 'the', 'ringwraiths', 'racing', 'towards', 'mount', 'doom', '.', 'gollum', 'renders', 'sam', 'unconscious', 'then', 'attacks', 'frodo', ',', 'seizing', 'his', 'ring', 'finger', 'and', 'biting', 'it', 'off', '.', 'as', 'gollum', 'rejoices', 'at', 'finally', 'having', 'reclaimed', 'his', 'precious', ',', 'frodo', ',', 'still', 'under', 'the', 'sway', 'of', 'the', 'ring', \"'s\", 'attraction', ',', 'charges', 'at', 'gollum', '.', 'after', 'a', 'brief', 'struggle', ',', 'they', 'both', 'fall', 'over', 'the', 'edge', 'of', 'the', 'precipice', '.', 'gollum', 'falls', 'into', 'the', 'fire', 'with', 'the', 'ring', ',', 'while', 'frodo', 'barely', 'hangs', 'on', 'with', 'his', 'strength', 'failing', '.', 'sam', 'rescues', 'frodo', 'as', 'the', 'ring', 'finally', 'sinks', 'into', 'the', 'lava', 'and', 'is', 'destroyed', '.', 'sauron', \"'s\", 'eye', 'screams', 'as', 'his', 'essence', 'fades', 'before', 'the', 'tower', 'of', 'barad-dă', '»', 'r', 'collapses', 'and', 'then', 'explodes', ',', 'forever', 'banishing', 'his', 'power', '.', 'the', 'orcs', ',', 'ringwraiths', 'and', 'the', 'remaining', 'forces', 'of', 'sauron', 'are', 'consumed', 'in', 'the', 'ensuing', 'shockwave', 'as', 'the', 'earth', 'collapses', 'under', 'their', 'feet', ';', 'the', 'black', 'gate', 'and', 'mordor', 'are', 'both', 'shaken', 'apart', '.', 'frodo', 'and', 'sam', 'become', 'stranded', 'when', 'the', 'entire', 'top', 'of', 'mount', 'doom', 'is', 'blown', 'off', 'in', 'a', 'large', 'eruption', '.', 'they', 'voice', 'their', 'regrets', 'at', 'not', 'being', 'able', 'to', 'see', 'the', 'shire', 'again', 'amidst', 'the', 'torrents', 'of', 'lava', 'and', 'the', 'destruction', 'of', 'barad-dur', '.', 'with', 'the', 'destruction', 'of', 'the', 'nazgul', ',', 'gandalf', 'is', 'able', 'to', 'call', 'upon', 'the', 'eagles', 'to', 'carry', 'the', 'hobbits', 'to', 'safety', '.', 'they', 'awake', 'in', 'minas', 'tirith', ',', 'reuniting', 'with', 'the', 'other', 'members', 'of', 'the', 'fellowship', ',', 'all', 'of', 'them', 'but', 'boromir', 'having', 'survived', 'the', 'war', 'of', 'the', 'ring.in', 'minas', 'tirith', ',', 'aragorn', 'is', 'crowned', 'king', 'of', 'the', 'west', ',', 'heralding', 'the', 'new', 'age', 'of', 'peace', ',', 'and', 'marries', 'arwen', '.', 'here', 'is', 'when', 'everybody', 'kneels', 'down', 'in', 'homage', 'to', 'the', 'little', 'hobbits', '.', 'the', 'hobbits', 'return', 'to', 'the', 'shire', ',', 'where', 'sam', 'marries', 'rosie', 'cotton', '(', 'sarah', 'mcleod', ')', '.', 'frodo', ',', 'having', 'finished', 'writing', 'his', 'entry', 'in', 'the', 'red', 'book', 'of', 'westmarch', ',', 'is', 'still', 'suffering', 'from', 'the', 'effects', 'of', 'the', 'wounds', 'he', 'received', 'from', 'the', 'ringwraiths', 'at', 'weathertop', 'and', 'from', 'shelob', '.', 'realizing', 'that', 'he', 'will', 'never', 'have', 'peace', 'in', 'middle', 'earth', ',', 'he', 'decides', 'to', 'go', 'with', 'gandalf', ',', 'bilbo', ',', 'elrond', ',', 'and', 'galadriel', 'to', 'the', 'grey', 'havens', 'and', 'sail', 'to', 'valinor', ',', 'the', 'undying', 'lands', '.', 'before', 'embarking', 'at', 'the', 'havens', ',', 'frodo', 'passes', 'the', 'red', 'book', 'to', 'sam', 'to', 'record', 'the', 'years', 'of', 'his', 'life', 'to', 'come', '.', 'then', 'the', 'last', 'ship', 'to', 'leave', 'middle', 'earth', 'sets', 'off', ',', 'pulling', 'slowly', 'away', 'from', 'the', 'shore', 'and', 'passing', 'along', 'the', 'straight', 'road', 'into', 'the', 'uttermost', 'west', '.', 'pippin', 'and', 'merry', 'take', 'their', 'leave', 'and', 'sam', 'is', 'left', 'staring', 'into', 'the', 'golden', 'sunset', '.', 'in', 'the', 'last', 'scene', ',', 'sam', 'walks', 'back', 'up', 'the', 'lane', 'to', 'bag', 'end', ',', 'where', 'he', 'is', 'greeted', 'by', 'his', 'wife', 'rosie', ',', 'and', 'his', 'children', '.', 'surrounded', 'by', 'his', 'family', 'and', 'with', 'the', 'rest', 'of', 'his', 'life', 'ahead', 'of', 'him', ',', 'sam', 'sighs', 'and', 'says', '``', 'well', ',', 'i', \"'m\", 'back', '.', \"''\", 'he', 'goes', 'inside', 'and', 'shuts', 'the', 'door', 'as', 'the', 'screen', 'fades', 'to', 'black', '.']\n"
     ]
    }
   ],
   "source": [
    "## TOKENIZATION ##\n",
    "\n",
    "# Open file:\n",
    "with open('fantasy0.txt', 'r') as file:\n",
    "    for line in file:    \n",
    "        # Split file into words: words\n",
    "        tokens = word_tokenize(line)\n",
    "        # Convert the tokens into lowercase: lower_tokens\n",
    "        lower_tokens = [t.lower() for t in tokens]\n",
    "\n",
    "# Print the unique tokens result\n",
    "print(lower_tokens)\n"
   ]
  },
  {
   "cell_type": "code",
   "execution_count": 15,
   "metadata": {
    "collapsed": true
   },
   "outputs": [],
   "source": [
    "from collections import Counter\n",
    "from nltk.stem import WordNetLemmatizer\n",
    "from nltk.corpus import stopwords"
   ]
  },
  {
   "cell_type": "code",
   "execution_count": 16,
   "metadata": {},
   "outputs": [
    {
     "name": "stdout",
     "output_type": "stream",
     "text": [
      "[('frodo', 27), ('sam', 25), ('aragorn', 23), ('gollum', 21), ('gandalf', 17), ('ring', 16), ('pippin', 15), ('faramir', 12), ('mina', 11), ('orcs', 11)]\n"
     ]
    }
   ],
   "source": [
    "## BAG OF WORDS ##\n",
    "\n",
    "# Count number of occurences of each token\n",
    "count = Counter(lower_tokens)\n",
    "\n",
    "# Retain alphabetic words: alpha_only\n",
    "alpha_only = [t for t in lower_tokens if t.isalpha()]\n",
    "\n",
    "# Get a list of english stopwords\n",
    "english_stops = set(stopwords.words('english'))\n",
    "\n",
    "# Remove all stop words: no_stops\n",
    "no_stops = [t for t in alpha_only if t not in english_stops]\n",
    "\n",
    "# Instantiate the WordNetLemmatizer\n",
    "wordnet_lemmatizer = WordNetLemmatizer()\n",
    "\n",
    "# Lemmatize (group together the inflected forms of a word \n",
    "# so they can be analysed as a single item) all tokens into a new list: lemmatized\n",
    "\n",
    "lemmatized = [wordnet_lemmatizer.lemmatize(t) for t in no_stops]\n",
    "\n",
    "# Create the bag-of-words: bow\n",
    "bow = Counter(lemmatized)\n",
    "\n",
    "# Print the 10 most common tokens\n",
    "print(bow.most_common(10))"
   ]
  },
  {
   "cell_type": "code",
   "execution_count": 1,
   "metadata": {},
   "outputs": [
    {
     "ename": "ModuleNotFoundError",
     "evalue": "No module named 'spacy'",
     "traceback": [
      "\u001b[1;31m---------------------------------------------------------------------------\u001b[0m",
      "\u001b[1;31mModuleNotFoundError\u001b[0m                       Traceback (most recent call last)",
      "\u001b[1;32m<ipython-input-1-c080f6458562>\u001b[0m in \u001b[0;36m<module>\u001b[1;34m()\u001b[0m\n\u001b[1;32m----> 1\u001b[1;33m \u001b[1;32mimport\u001b[0m \u001b[0mspacy\u001b[0m\u001b[1;33m\u001b[0m\u001b[0m\n\u001b[0m",
      "\u001b[1;31mModuleNotFoundError\u001b[0m: No module named 'spacy'"
     ],
     "output_type": "error"
    }
   ],
   "source": [
    "import spacy"
   ]
  }
 ],
 "metadata": {
  "kernelspec": {
   "display_name": "Python 3",
   "language": "python",
   "name": "python3"
  },
  "language_info": {
   "codemirror_mode": {
    "name": "ipython",
    "version": 3
   },
   "file_extension": ".py",
   "mimetype": "text/x-python",
   "name": "python",
   "nbconvert_exporter": "python",
   "pygments_lexer": "ipython3",
   "version": "3.6.1"
  }
 },
 "nbformat": 4,
 "nbformat_minor": 2
}
